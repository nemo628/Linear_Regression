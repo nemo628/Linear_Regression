{
 "cells": [
  {
   "cell_type": "code",
   "execution_count": 1,
   "metadata": {},
   "outputs": [],
   "source": [
    "from scipy import io\n",
    "import numpy as np\n",
    "import matplotlib.pyplot as plt\n",
    "import matplotlib.mlab as mlab"
   ]
  },
  {
   "cell_type": "code",
   "execution_count": 2,
   "metadata": {},
   "outputs": [],
   "source": [
    "housing_data = io.loadmat(\"data/housing_data.mat\")\n",
    "training_X = housing_data['Xtrain']\n",
    "training_Y = housing_data['Ytrain']\n",
    "validation_X = housing_data['Xvalidate']\n",
    "validation_Y = housing_data['Yvalidate']"
   ]
  },
  {
   "cell_type": "code",
   "execution_count": 6,
   "metadata": {},
   "outputs": [],
   "source": [
    "class linear_regression:\n",
    "    def __init__(self, bias=False):\n",
    "        self.bias = bias\n",
    "        self.coefficient = None\n",
    "\n",
    "    def fit(self, X, Y):\n",
    "        if self.bias:\n",
    "            X = np.insert(X, X.shape[1], 1, axis=1)\n",
    "        a = np.dot(X.T, X)\n",
    "        b = np.dot(X.T, Y)\n",
    "        a_invese = np.linalg.inv(a)\n",
    "        self.coefficient = np.dot(a_invese, b)\n",
    "\n",
    "    def predict(self, X):\n",
    "        if self.bias:\n",
    "            X = np.insert(X, X.shape[1], 1, axis=1)\n",
    "        return np.dot(X, self.coefficient)\n",
    "    \n",
    "    def RSS(self, X, Y):\n",
    "        if self.bias:\n",
    "            X = np.insert(X, X.shape[1], 1, axis=1)\n",
    "        predicted = np.dot(X, self.coefficient)\n",
    "        square_diff = (validation_Y - predicted) ** 2\n",
    "        return np.sum(square_diff)\n",
    "    "
   ]
  },
  {
   "cell_type": "code",
   "execution_count": 7,
   "metadata": {},
   "outputs": [],
   "source": [
    "housing_classifier = linear_regression(bias=True)\n",
    "housing_classifier.fit(training_X, training_Y)"
   ]
  },
  {
   "cell_type": "code",
   "execution_count": 8,
   "metadata": {},
   "outputs": [
    {
     "name": "stdout",
     "output_type": "stream",
     "text": [
      "The RSS of the housing validation set is 5794953797667.052734\n"
     ]
    }
   ],
   "source": [
    "rss = housing_classifier.RSS(validation_X, validation_Y)\n",
    "print(\"The RSS of the housing validation set is %f\" % rss)"
   ]
  },
  {
   "cell_type": "code",
   "execution_count": 9,
   "metadata": {},
   "outputs": [
    {
     "name": "stdout",
     "output_type": "stream",
     "text": [
      "The median home value range from -56562.827544 to 710798.838692\n"
     ]
    }
   ],
   "source": [
    "predicted = housing_classifier.predict(validation_X)\n",
    "min_price = min(predicted)\n",
    "max_price = max(predicted)\n",
    "print(\"The median home value range from %f to %f\" % (min_price, max_price))"
   ]
  },
  {
   "cell_type": "code",
   "execution_count": 11,
   "metadata": {},
   "outputs": [
    {
     "data": {
      "image/png": "[encoded data removed]",
      "text/plain": [
       "<matplotlib.figure.Figure at 0x7f375e68b9d0>"
      ]
     },
     "metadata": {},
     "output_type": "display_data"
    }
   ],
   "source": [
    "coefficients = plt.figure(1)\n",
    "plt.title(\"Regression coefficients\")\n",
    "indices = range(len(housing_classifier.coefficient)-1)\n",
    "plt.plot(indices, housing_classifier.coefficient[0:-1], linestyle='-', marker='o')\n",
    "plt.xlabel('Indices', fontsize=14, color='blue')\n",
    "plt.ylabel('Coefficient', fontsize=14, color='blue')\n",
    "plt.grid(True)"
   ]
  },
  {
   "cell_type": "code",
   "execution_count": 12,
   "metadata": {},
   "outputs": [
    {
     "data": {
      "text/plain": [
       "(array([   1.,    1.,    0.,    0.,    0.,    1.,    1.,    2.,    1.,\n",
       "           1.,    1.,    1.,    2.,    2.,    3.,    4.,    3.,    6.,\n",
       "           5.,    6.,    8.,   12.,   10.,   10.,   25.,   30.,   27.,\n",
       "          24.,   30.,   36.,   47.,   55.,   68.,   71.,   83.,   95.,\n",
       "          84.,   94.,  100.,   72.,   51.,   37.,   33.,   16.,   14.,\n",
       "           7.,    4.,    1.,    3.,    2.,    2.,    0.,    5.,    0.,\n",
       "           1.,    0.,    0.,    0.,    0.,    1.,    0.,    0.,    0.,\n",
       "           0.,    0.,    0.,    0.,    0.,    0.,    0.,    0.,    0.,\n",
       "           0.,    0.,    1.]),\n",
       " array([-345249.5455547 , -335067.3113744 , -324885.07719411,\n",
       "        -314702.84301381, -304520.60883351, -294338.37465321,\n",
       "        -284156.14047292, -273973.90629262, -263791.67211232,\n",
       "        -253609.43793203, -243427.20375173, -233244.96957143,\n",
       "        -223062.73539114, -212880.50121084, -202698.26703054,\n",
       "        -192516.03285024, -182333.79866995, -172151.56448965,\n",
       "        -161969.33030935, -151787.09612906, -141604.86194876,\n",
       "        -131422.62776846, -121240.39358817, -111058.15940787,\n",
       "        -100875.92522757,  -90693.69104728,  -80511.45686698,\n",
       "         -70329.22268668,  -60146.98850638,  -49964.75432609,\n",
       "         -39782.52014579,  -29600.28596549,  -19418.0517852 ,\n",
       "          -9235.8176049 ,     946.4165754 ,   11128.65075569,\n",
       "          21310.88493599,   31493.11911629,   41675.35329659,\n",
       "          51857.58747688,   62039.82165718,   72222.05583748,\n",
       "          82404.29001777,   92586.52419807,  102768.75837837,\n",
       "         112950.99255866,  123133.22673896,  133315.46091926,\n",
       "         143497.69509955,  153679.92927985,  163862.16346015,\n",
       "         174044.39764045,  184226.63182074,  194408.86600104,\n",
       "         204591.10018134,  214773.33436163,  224955.56854193,\n",
       "         235137.80272223,  245320.03690252,  255502.27108282,\n",
       "         265684.50526312,  275866.73944342,  286048.97362371,\n",
       "         296231.20780401,  306413.44198431,  316595.6761646 ,\n",
       "         326777.9103449 ,  336960.1445252 ,  347142.37870549,\n",
       "         357324.61288579,  367506.84706609,  377689.08124638,\n",
       "         387871.31542668,  398053.54960698,  408235.78378728,\n",
       "         418418.01796757]),\n",
       " <a list of 75 Patch objects>)"
      ]
     },
     "execution_count": 12,
     "metadata": {},
     "output_type": "execute_result"
    },
    {
     "data": {
      "image/png": "[encoded data removed]",
      "text/plain": [
       "<matplotlib.figure.Figure at 0x7f375e2fa4d0>"
      ]
     },
     "metadata": {},
     "output_type": "display_data"
    }
   ],
   "source": [
    "residuals = plt.figure(2)\n",
    "plt.title(\"Residuals\")\n",
    "\n",
    "residuals_val = housing_classifier.predict(validation_X) - validation_Y\n",
    "plt.hist(residuals_val, 75, facecolor='green')"
   ]
  },
  {
   "cell_type": "code",
   "execution_count": null,
   "metadata": {},
   "outputs": [],
   "source": []
  }
 ],
 "metadata": {
  "kernelspec": {
   "display_name": "Python 2",
   "language": "python",
   "name": "python2"
  },
  "language_info": {
   "codemirror_mode": {
    "name": "ipython",
    "version": 2
   },
   "file_extension": ".py",
   "mimetype": "text/x-python",
   "name": "python",
   "nbconvert_exporter": "python",
   "pygments_lexer": "ipython2",
   "version": "2.7.12"
  }
 },
 "nbformat": 4,
 "nbformat_minor": 2
}
